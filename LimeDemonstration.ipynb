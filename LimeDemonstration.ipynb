{
 "cells": [
  {
   "cell_type": "code",
   "execution_count": 3,
   "metadata": {},
   "outputs": [
    {
     "name": "stdout",
     "output_type": "stream",
     "text": [
      "CREATE TABLE summary (\n",
      "            SessionID       TEXT PRIMARY KEY NOT NULL,\n",
      "            Setup           TEXT,\n",
      "            Cage            INT,\n",
      "            Mouse           TEXT,\n",
      "            OppositeMouse   TEXT,\n",
      "            Position        TEXT,\n",
      "            PositionNum     INT,\n",
      "            SessionDate     INT,\n",
      "            StartTime       TEXT,\n",
      "            Duration        REAL,\n",
      "            AnalysisLength  TEXT,\n",
      "            ChewCount       INT,\n",
      "            ChewTime        REAL,\n",
      "            ClimbCount      INT,\n",
      "            ClimbTime       REAL,\n",
      "            FoodBefore      REAL,\n",
      "            FoodAfter       REAL,\n",
      "            Food            REAL,\n",
      "            Weight          REAL\n",
      "        )\n"
     ]
    },
    {
     "data": {
      "text/html": [
       "<div>\n",
       "<style scoped>\n",
       "    .dataframe tbody tr th:only-of-type {\n",
       "        vertical-align: middle;\n",
       "    }\n",
       "\n",
       "    .dataframe tbody tr th {\n",
       "        vertical-align: top;\n",
       "    }\n",
       "\n",
       "    .dataframe thead th {\n",
       "        text-align: right;\n",
       "    }\n",
       "</style>\n",
       "<table border=\"1\" class=\"dataframe\">\n",
       "  <thead>\n",
       "    <tr style=\"text-align: right;\">\n",
       "      <th></th>\n",
       "      <th>SessionID</th>\n",
       "      <th>Setup</th>\n",
       "      <th>Cage</th>\n",
       "      <th>Mouse</th>\n",
       "      <th>OppositeMouse</th>\n",
       "      <th>Position</th>\n",
       "      <th>PositionNum</th>\n",
       "      <th>SessionDate</th>\n",
       "      <th>StartTime</th>\n",
       "      <th>Duration</th>\n",
       "      <th>AnalysisLength</th>\n",
       "      <th>ChewCount</th>\n",
       "      <th>ChewTime</th>\n",
       "      <th>ClimbCount</th>\n",
       "      <th>ClimbTime</th>\n",
       "      <th>FoodBefore</th>\n",
       "      <th>FoodAfter</th>\n",
       "      <th>Food</th>\n",
       "      <th>Weight</th>\n",
       "    </tr>\n",
       "  </thead>\n",
       "  <tbody>\n",
       "  </tbody>\n",
       "</table>\n",
       "</div>"
      ],
      "text/plain": [
       "Empty DataFrame\n",
       "Columns: [SessionID, Setup, Cage, Mouse, OppositeMouse, Position, PositionNum, SessionDate, StartTime, Duration, AnalysisLength, ChewCount, ChewTime, ClimbCount, ClimbTime, FoodBefore, FoodAfter, Food, Weight]\n",
       "Index: []"
      ]
     },
     "execution_count": 3,
     "metadata": {},
     "output_type": "execute_result"
    }
   ],
   "source": [
    "%matplotlib inline\n",
    "import matplotlib.pyplot as plt\n",
    "import seaborn as sns\n",
    "import pandas as pd\n",
    "import numpy as np\n",
    "\n",
    "from limeImport import getSQLTable\n",
    "# 如需查看每列的数据类型，可将showSchema设为True\n",
    "dataSheet = getSQLTable(\"summary\", \"data/chewing.db\", showSchema=True)\n",
    "dataSheet"
   ]
  },
  {
   "cell_type": "code",
   "execution_count": null,
   "metadata": {},
   "outputs": [],
   "source": []
  }
 ],
 "metadata": {
  "kernelspec": {
   "display_name": "Python 3",
   "language": "python",
   "name": "python3"
  },
  "language_info": {
   "codemirror_mode": {
    "name": "ipython",
    "version": 3
   },
   "file_extension": ".py",
   "mimetype": "text/x-python",
   "name": "python",
   "nbconvert_exporter": "python",
   "pygments_lexer": "ipython3",
   "version": "3.6.3"
  }
 },
 "nbformat": 4,
 "nbformat_minor": 2
}
