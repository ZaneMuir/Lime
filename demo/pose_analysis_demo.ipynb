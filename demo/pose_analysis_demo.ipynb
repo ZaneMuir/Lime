{
 "cells": [
  {
   "cell_type": "code",
   "execution_count": 1,
   "metadata": {},
   "outputs": [],
   "source": [
    "%matplotlib inline\n",
    "import matplotlib.pyplot as plt\n",
    "import pandas as pd\n",
    "import numpy as np\n",
    "import os, re"
   ]
  },
  {
   "cell_type": "code",
   "execution_count": 12,
   "metadata": {},
   "outputs": [],
   "source": [
    "data = pd.read_csv('data/20171123001pose.csv')"
   ]
  },
  {
   "cell_type": "code",
   "execution_count": 29,
   "metadata": {},
   "outputs": [
    {
     "data": {
      "text/plain": [
       "[<matplotlib.lines.Line2D at 0x10bd9ea20>]"
      ]
     },
     "execution_count": 29,
     "metadata": {},
     "output_type": "execute_result"
    },
    {
     "data": {
      "image/png": "[encoded data removed]",
      "text/plain": [
       "<matplotlib.figure.Figure at 0x10b9de940>"
      ]
     },
     "metadata": {},
     "output_type": "display_data"
    }
   ],
   "source": [
    "lower = data[data.leftX != -1]['leftY'].values+data[data.leftX != -1]['leftH'].values\n",
    "plt.plot(data[data.leftX != -1]['time'].values, lower)\n",
    "thresh = lower.mean() - lower.std()\n",
    "plt.plot([0,70],[thresh,thresh])"
   ]
  },
  {
   "cell_type": "code",
   "execution_count": 35,
   "metadata": {},
   "outputs": [
    {
     "data": {
      "text/plain": [
       "[array([ 49.040581,  49.080582,  49.120583,  49.160583,  49.200584,\n",
       "         49.240585,  49.280586,  49.320587,  49.360584,  49.400585,\n",
       "         49.440586,  49.480587,  49.520588,  49.560589,  49.60059 ,\n",
       "         49.640591,  49.680588,  49.720589,  49.76059 ,  49.800591,\n",
       "         50.080593,  50.120594,  50.160595,  50.200596,  50.240597,\n",
       "         50.280598,  50.320599,  50.3606  ,  50.400597,  50.440598,\n",
       "         50.480598,  50.520599,  50.5606  ,  50.600601,  50.640602,\n",
       "         50.680603,  50.7206  ,  50.760601,  50.800602,  50.840603,\n",
       "         50.880604,  50.920605,  50.960606,  51.000607,  51.040607,\n",
       "         51.080605,  51.120605,  51.160606,  51.200607,  51.240608,\n",
       "         51.280609,  51.32061 ,  51.360611,  51.400612,  51.440609,\n",
       "         51.48061 ,  51.520611,  51.560612,  51.600613,  51.640614,\n",
       "         51.680614,  51.720615,  51.760612,  51.800613,  51.840614,\n",
       "         51.880615,  51.920616,  51.960617,  52.000618,  52.040619,\n",
       "         52.08062 ,  52.120617,  52.160618,  52.200619,  52.24062 ,\n",
       "         52.280621,  52.320621,  52.360622,  52.400623,  52.44062 ,\n",
       "         52.480621,  52.520622,  52.560623,  52.600624,  52.640625,\n",
       "         52.680626,  52.720627,  52.760628,  52.800625,  52.840626,\n",
       "         52.880627,  52.920628,  52.960629,  53.000629,  53.04063 ,\n",
       "         53.080631,  53.120632,  53.160629,  53.20063 ]),\n",
       " array([ 72.360855,  72.400856,  72.440857,  72.480858,  72.520859,\n",
       "         72.56086 ,  72.600861,  72.640862,  72.680862,  72.720863,\n",
       "         72.760864,  72.800865,  72.840866,  72.880867,  72.920868,\n",
       "         72.960869,  73.00087 ])]"
      ]
     },
     "execution_count": 35,
     "metadata": {},
     "output_type": "execute_result"
    }
   ],
   "source": [
    "l_lower = data[data.leftX != -1]['leftY'].values+data[data.leftX != -1]['leftH'].values\n",
    "r_lower = data[data.leftX != -1]['rightY'].values+data[data.leftX != -1]['rightH'].values\n",
    "l_thresh = l_lower.mean() - l_lower.std()\n",
    "r_thresh = r_lower.mean() - r_lower.std()\n",
    "\n",
    "l_pool = []\n",
    "r_pool = []\n",
    "for index in range(len(data)):\n",
    "    item = data.iloc[index]\n",
    "    if item['leftY'] != -1:\n",
    "        if item['leftY'] + item['leftH'] < l_thresh:\n",
    "            l_pool.append(item['time'])\n",
    "    \n",
    "    if item['rightY'] != -1:\n",
    "        if item['rightY'] + item['rightH'] < r_thresh:\n",
    "            r_pool.append(item['time'])\n",
    "            \n",
    "group_consecutive(l_pool)"
   ]
  },
  {
   "cell_type": "code",
   "execution_count": 33,
   "metadata": {},
   "outputs": [],
   "source": [
    "def group_consecutive(a,step=1):\n",
    "    ''' group consecutive numbers in an array\n",
    "        modified from https://zhuanlan.zhihu.com/p/29558169'''\n",
    "    return np.split(a, np.where(np.diff(a) > step)[0] + 1)"
   ]
  },
  {
   "cell_type": "code",
   "execution_count": null,
   "metadata": {},
   "outputs": [],
   "source": []
  }
 ],
 "metadata": {
  "kernelspec": {
   "display_name": "Python 3",
   "language": "python",
   "name": "python3"
  },
  "language_info": {
   "codemirror_mode": {
    "name": "ipython",
    "version": 3
   },
   "file_extension": ".py",
   "mimetype": "text/x-python",
   "name": "python",
   "nbconvert_exporter": "python",
   "pygments_lexer": "ipython3",
   "version": "3.6.3"
  }
 },
 "nbformat": 4,
 "nbformat_minor": 2
}
