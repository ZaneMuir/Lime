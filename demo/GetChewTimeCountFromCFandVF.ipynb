{
 "cells": [
  {
   "cell_type": "markdown",
   "metadata": {},
   "source": [
    "# 需求:\n",
    "## [ ]把视频数据分析完毕\n",
    "## [X]写函数将视频分析的结果和小展展分析的结果合并起来, 计算次数和时间并将图绘制出来"
   ]
  },
  {
   "cell_type": "markdown",
   "metadata": {},
   "source": [
    "## 视频数据格式处理"
   ]
  },
  {
   "cell_type": "code",
   "execution_count": 86,
   "metadata": {},
   "outputs": [],
   "source": [
    "%matplotlib inline\n",
    "import matplotlib.pyplot as plt\n",
    "from tqdm import tqdm\n",
    "import pandas as pd\n",
    "import numpy as np\n",
    "import def_baggage_666 as db6\n",
    "\n",
    "filePath = '/Users/zhenghao/Desktop/token/#1__count_drink_list.csv'\n",
    "df = pd.read_csv(filePath,names = ['Frames','start','end'])\n",
    "df[['start','end']] = df[['start','end']]/25\n",
    "df1 = df.drop('Frames', axis=1)\n",
    "# 把这个文件加上title然后保存\n",
    "df1.to_csv('/Users/zhenghao/Desktop/token/#1__count_drink_list_token.csv',index=False)"
   ]
  },
  {
   "cell_type": "markdown",
   "metadata": {},
   "source": [
    "## 写函数将视频分析的结果和小展展分析的结果合并起来, 计算次数和时间并将图绘制出来\n",
    "\n",
    "- [X]导入双方数据\n",
    "- [X]整理双方数据\n",
    "- [X]获取视频的时间并制作delay表格\n",
    "- [X]处理数据\n",
    "- [X]求不包含的区域的段数和总时长"
   ]
  },
  {
   "cell_type": "code",
   "execution_count": 139,
   "metadata": {
    "scrolled": false
   },
   "outputs": [
    {
     "name": "stdout",
     "output_type": "stream",
     "text": [
      "token_cf_time is  396.92\n",
      "token_cf_count is  22\n"
     ]
    }
   ],
   "source": [
    "import matplotlib.pyplot as plt\n",
    "from tqdm import tqdm\n",
    "import pandas as pd\n",
    "import numpy as np\n",
    "import def_baggage_666 as db6\n",
    "\n",
    "ChewFilePath = '/Users/zhenghao/Documents/pythonfile/my_python_code/Chew/pythonLime/chart/20171203002_PW_4_0/bout_time_CH_0.csv'\n",
    "VideoFilePath = '/Users/zhenghao/Documents/pythonfile/my_python_code/Chew/20171203002_PW_4_1/ana_9_count_drink_list.csv'\n",
    "\n",
    "cf = pd.read_csv(ChewFilePath)\n",
    "cf = cf.drop(['name','start_t','end_t'], axis=1)\n",
    "cf[['start','end']] = cf[['start','end']]*25\n",
    "cf[['start','end']] = cf[['start','end']]//1# 没办法只能强制转化为帧\n",
    "\n",
    "vf = pd.read_csv(VideoFilePath,names = ['Frames','start','end'])\n",
    "vf = vf.drop('Frames', axis=1)\n",
    "\n",
    "# 视频声音delay\n",
    "VoiceDelay = [21, 12, 13, 16, 13, 11, 2, 7, 16] #前6个是最新的正常VS限食的结果\n",
    "vf[['start','end']] = vf[['start','end']] - VoiceDelay[8]*25\n",
    "\n",
    "# 获得token_cf的非包含区域\n",
    "cf_a = np.array(cf)\n",
    "vf_a = np.array(vf)\n",
    "\n",
    "token_cf = np.zeros(60*60*25)\n",
    "token_vf = np.zeros(60*60*25)\n",
    "\n",
    "for index in range(np.shape(cf_a)[0]):\n",
    "    token_cf[int(cf_a[index,0]):int(cf_a[index,1])] = 1\n",
    "for index in range(np.shape(vf_a)[0]):\n",
    "    token_vf[int(vf_a[index,0]):int(vf_a[index,1])] = 1\n",
    "\n",
    "print('token_cf_time is ', np.sum(token_vf)/25)\n",
    "print('token_cf_count is ', np.shape(vf_a)[0])\n",
    "\n",
    "    \n",
    "#plt.figure(figsize=(50,2))\n",
    "#plt.plot(np.linspace(0,3600,60*60*25),token_cf)\n",
    "#plt.plot(np.linspace(0,3600,60*60*25),token_vf+0.25)\n",
    "#plt.show()\n",
    "\n",
    "for index in range(np.shape(cf_a)[0]):\n",
    "    if 1 in token_vf[int(cf_a[index,0]):int(cf_a[index,1])]:\n",
    "        token_cf[int(cf_a[index,0]):int(cf_a[index,1])] = 0\n",
    "\n",
    "# 统计token_cf的段数\n",
    "ChewCount = 0\n",
    "for index in range(1,np.size(token_cf)-1):\n",
    "    if token_cf[index-1] == 0 and token_cf[index] == 1:\n",
    "        ChewCount = ChewCount+1\n",
    "\n",
    "# 统计token_cf的总时间\n",
    "ChewTime = np.sum(token_cf)/25;"
   ]
  },
  {
   "cell_type": "code",
   "execution_count": 105,
   "metadata": {},
   "outputs": [
    {
     "name": "stdout",
     "output_type": "stream",
     "text": [
      "ChewCount =  42\n",
      "ChewTime =  370.36\n"
     ]
    }
   ],
   "source": [
    "print('ChewCount = ',ChewCount)\n",
    "print('ChewTime = ',ChewTime)"
   ]
  },
  {
   "cell_type": "code",
   "execution_count": null,
   "metadata": {},
   "outputs": [],
   "source": []
  }
 ],
 "metadata": {
  "kernelspec": {
   "display_name": "Python 3",
   "language": "python",
   "name": "python3"
  },
  "language_info": {
   "codemirror_mode": {
    "name": "ipython",
    "version": 3
   },
   "file_extension": ".py",
   "mimetype": "text/x-python",
   "name": "python",
   "nbconvert_exporter": "python",
   "pygments_lexer": "ipython3",
   "version": "3.6.3"
  }
 },
 "nbformat": 4,
 "nbformat_minor": 2
}
